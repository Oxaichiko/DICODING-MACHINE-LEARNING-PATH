{
  "nbformat": 4,
  "nbformat_minor": 0,
  "metadata": {
    "colab": {
      "name": "Tipe data pada Python.ipynb",
      "provenance": []
    },
    "kernelspec": {
      "name": "python3",
      "display_name": "Python 3"
    },
    "language_info": {
      "name": "python"
    },
    "accelerator": "GPU"
  },
  "cells": [
    {
      "cell_type": "code",
      "metadata": {
        "colab": {
          "base_uri": "https://localhost:8080/"
        },
        "id": "MqkvQdSy0PtL",
        "outputId": "f748a6c3-2c1b-4cac-96b8-02791c23e256"
      },
      "source": [
        "#tipe data Numbers\n",
        "a=10\n",
        "print (a,'bertipe',type(a))\n",
        "b=1.7\n",
        "print(b, 'bertipe', type(b))\n",
        "c=1+3j\n",
        "print(c,'bertipe',type(c))\n",
        "print(c, 'Bertipe bilangan kompleks ?', isinstance(1+3j,complex))"
      ],
      "execution_count": null,
      "outputs": [
        {
          "output_type": "stream",
          "text": [
            "10 bertipe <class 'int'>\n",
            "1.7 bertipe <class 'float'>\n",
            "(1+3j) bertipe <class 'complex'>\n",
            "(1+3j) Bertipe bilangan kompleks ? True\n"
          ],
          "name": "stdout"
        }
      ]
    },
    {
      "cell_type": "code",
      "metadata": {
        "colab": {
          "base_uri": "https://localhost:8080/"
        },
        "id": "MJXRFoAk1nYe",
        "outputId": "2b67b856-d5e2-4293-d41a-ffab0af0fc00"
      },
      "source": [
        "x=[0]*10005;  #inisialisasi array 0 sebanyak 10005; x[0]=0\n",
        "x[1]=1;       #x[1]=1\n",
        "\n",
        "for j in range (2,10001):\n",
        "      x[j]=x[j-1]+x[j-2]  #Fibonacci\n",
        "print(x[10000])\n",
        "\n"
      ],
      "execution_count": null,
      "outputs": [
        {
          "output_type": "stream",
          "text": [
            "33644764876431783266621612005107543310302148460680063906564769974680081442166662368155595513633734025582065332680836159373734790483865268263040892463056431887354544369559827491606602099884183933864652731300088830269235673613135117579297437854413752130520504347701602264758318906527890855154366159582987279682987510631200575428783453215515103870818298969791613127856265033195487140214287532698187962046936097879900350962302291026368131493195275630227837628441540360584402572114334961180023091208287046088923962328835461505776583271252546093591128203925285393434620904245248929403901706233888991085841065183173360437470737908552631764325733993712871937587746897479926305837065742830161637408969178426378624212835258112820516370298089332099905707920064367426202389783111470054074998459250360633560933883831923386783056136435351892133279732908133732642652633989763922723407882928177953580570993691049175470808931841056146322338217465637321248226383092103297701648054726243842374862411453093812206564914032751086643394517512161526545361333111314042436854805106765843493523836959653428071768775328348234345557366719731392746273629108210679280784718035329131176778924659089938635459327894523777674406192240337638674004021330343297496902028328145933418826817683893072003634795623117103101291953169794607632737589253530772552375943788434504067715555779056450443016640119462580972216729758615026968443146952034614932291105970676243268515992834709891284706740862008587135016260312071903172086094081298321581077282076353186624611278245537208532365305775956430072517744315051539600905168603220349163222640885248852433158051534849622434848299380905070483482449327453732624567755879089187190803662058009594743150052402532709746995318770724376825907419939632265984147498193609285223945039707165443156421328157688908058783183404917434556270520223564846495196112460268313970975069382648706613264507665074611512677522748621598642530711298441182622661057163515069260029861704945425047491378115154139941550671256271197133252763631939606902895650288268608362241082050562430701794976171121233066073310059947366875\n"
          ],
          "name": "stdout"
        }
      ]
    },
    {
      "cell_type": "code",
      "metadata": {
        "colab": {
          "base_uri": "https://localhost:8080/"
        },
        "id": "0Yaqdun_Eh2F",
        "outputId": "8af5aaed-a8bf-4cff-ebcf-ac18439eab9f"
      },
      "source": [
        "#List\n",
        "a=[1, 2.2, 'python']\n",
        "a[2]=3\n",
        "print(a)"
      ],
      "execution_count": null,
      "outputs": [
        {
          "output_type": "stream",
          "text": [
            "[1, 2.2, 3]\n"
          ],
          "name": "stdout"
        }
      ]
    },
    {
      "cell_type": "code",
      "metadata": {
        "colab": {
          "base_uri": "https://localhost:8080/"
        },
        "id": "XPHTAwBjGWdA",
        "outputId": "dec1eb53-f6ef-458a-a4d2-6a437bd06fcf"
      },
      "source": [
        "#Tuple (sekali tulis)\n",
        "t=(5,'program',1+3j)\n",
        "print(t[1])"
      ],
      "execution_count": null,
      "outputs": [
        {
          "output_type": "stream",
          "text": [
            "program\n"
          ],
          "name": "stdout"
        }
      ]
    },
    {
      "cell_type": "code",
      "metadata": {
        "colab": {
          "base_uri": "https://localhost:8080/"
        },
        "id": "62xHCUI_KG6x",
        "outputId": "ded39c6a-4000-40a1-87eb-b0a56f88cec2"
      },
      "source": [
        "#Set (item unik tanpa urutan)\n",
        "a={1,2,2,3,3,3}\n",
        "print(a)"
      ],
      "execution_count": null,
      "outputs": [
        {
          "output_type": "stream",
          "text": [
            "{1, 2, 3}\n"
          ],
          "name": "stdout"
        }
      ]
    },
    {
      "cell_type": "code",
      "metadata": {
        "colab": {
          "base_uri": "https://localhost:8080/"
        },
        "id": "2xRkMckUKvit",
        "outputId": "07cb7996-bbdf-4d7a-fba6-195dbe15e1d7"
      },
      "source": [
        "#Dictionary adalah kumpulan pasangan kunci-nilai yang bersifat tidak berurutan.\n",
        "#Dictionary dapat digunakan untuk menyimpan data kecil hingga besar\n",
        "#Dictionary bukan termasuk sequence\n",
        "d={1:'value','key':2}\n",
        "print(type(d))\n",
        "print('d[1]=',d[1])\n",
        "print(\"d['key']=\", d['key'])\n"
      ],
      "execution_count": null,
      "outputs": [
        {
          "output_type": "stream",
          "text": [
            "<class 'dict'>\n",
            "d[1]= value\n",
            "d['key']= 2\n"
          ],
          "name": "stdout"
        }
      ]
    },
    {
      "cell_type": "code",
      "metadata": {
        "colab": {
          "base_uri": "https://localhost:8080/"
        },
        "id": "gOCNGcNfLcyq",
        "outputId": "65229e39-0960-4b07-ce4a-d9dbd6616381"
      },
      "source": [
        "#Konversi antar tipe data\n",
        "print(float(5))\n",
        "print(int(10.6))\n",
        "print(int(-10.3))\n",
        "print(float('2.5'))\n",
        "print(str(25))\n",
        "print (set([1,2,3]))\n",
        "print(tuple({5,6,7}))\n",
        "print(list('hello'))\n",
        "print(dict([[1,2],[3,4]]))\n",
        "print(dict([(3,26),(4,44)]))"
      ],
      "execution_count": null,
      "outputs": [
        {
          "output_type": "stream",
          "text": [
            "5.0\n",
            "10\n",
            "-10\n",
            "2.5\n",
            "25\n",
            "{1, 2, 3}\n",
            "(5, 6, 7)\n",
            "['h', 'e', 'l', 'l', 'o']\n",
            "{1: 2, 3: 4}\n",
            "{3: 26, 4: 44}\n"
          ],
          "name": "stdout"
        }
      ]
    },
    {
      "cell_type": "code",
      "metadata": {
        "colab": {
          "base_uri": "https://localhost:8080/"
        },
        "id": "diJDs4TyMmbT",
        "outputId": "caf3829a-1ce4-4d8c-e519-dd25a8139c2c"
      },
      "source": [
        "#Variabel adalah sebuah tempat di memori komputer untuk menyimpan nilai dengan tipe data tertentu\n",
        "print(\"Hello, World!\")\n",
        "x=100\n",
        "print('Nilai x adalah',x)\n",
        "print('hai{}'.format('bro'))\n",
        "nama=\"Oxaichiko\"\n",
        "print(\"Halo, %s!\" % nama)\n",
        "nama= \"Insyiraah\"\n",
        "umur= 22\n",
        "print(\"Umur %s adalah %d tahun.\" % (nama,umur))\n",
        "angka=[7,9,11,13]\n",
        "print(\"Angka saya: %s\" % angka)\n",
        "nilai = input ('Masukkan angka:')\n",
        "print(nilai)\n",
        "print(int(nilai))\n",
        "print(float(nilai))\n",
        "print(eval('90+10'))"
      ],
      "execution_count": null,
      "outputs": [
        {
          "output_type": "stream",
          "text": [
            "Hello, World!\n",
            "Nilai x adalah 100\n",
            "haibro\n",
            "Halo, Oxaichiko!\n",
            "Umur Insyiraah adalah 22 tahun.\n",
            "Angka saya: [7, 9, 11, 13]\n",
            "Masukkan angka:90\n",
            "90\n",
            "90\n",
            "90.0\n",
            "100\n"
          ],
          "name": "stdout"
        }
      ]
    },
    {
      "cell_type": "code",
      "metadata": {
        "colab": {
          "base_uri": "https://localhost:8080/"
        },
        "id": "FURHFAUqy79G",
        "outputId": "f5dc3a7c-e920-4a36-e105-97e8bb719e4d"
      },
      "source": [
        "import sys\n",
        "print('Jumlah arguments:', len(sys.argv),'arguments.')\n",
        "print('Argument List', str(sys.argv))\n",
        "print(sys.argv[1])"
      ],
      "execution_count": null,
      "outputs": [
        {
          "output_type": "stream",
          "text": [
            "Jumlah arguments: 3 arguments.\n",
            "Argument List ['/usr/local/lib/python3.7/dist-packages/ipykernel_launcher.py', '-f', '/root/.local/share/jupyter/runtime/kernel-9087fe08-75bc-48d2-b752-f394766442eb.json']\n",
            "-f\n"
          ],
          "name": "stdout"
        }
      ]
    },
    {
      "cell_type": "code",
      "metadata": {
        "colab": {
          "base_uri": "https://localhost:8080/"
        },
        "id": "138Gqwcw3hGh",
        "outputId": "c341f881-da4f-4e4f-f81b-63350ec7005f"
      },
      "source": [
        "#Ketika memberikan nilai 6 pada variabel x\n",
        "x = 6\n",
        "print(type(x))\n",
        "#Kemudian berikan string 'hello' pada variabel x di baris selanjutnya\n",
        "x='hello'\n",
        "print(type(x))"
      ],
      "execution_count": null,
      "outputs": [
        {
          "output_type": "stream",
          "text": [
            "<class 'int'>\n",
            "<class 'str'>\n"
          ],
          "name": "stdout"
        }
      ]
    },
    {
      "cell_type": "code",
      "metadata": {
        "colab": {
          "base_uri": "https://localhost:8080/"
        },
        "id": "yFAD9S-W5n29",
        "outputId": "a3fabe82-982e-4074-a3c8-73fe8de7e9bd"
      },
      "source": [
        "contoh = \"Halo, Oxa\"\n",
        "print(type(contoh))\n",
        "contoh = 19.7\n",
        "print(type(contoh))\n"
      ],
      "execution_count": null,
      "outputs": [
        {
          "output_type": "stream",
          "text": [
            "<class 'str'>\n",
            "<class 'float'>\n"
          ],
          "name": "stdout"
        }
      ]
    },
    {
      "cell_type": "code",
      "metadata": {
        "colab": {
          "base_uri": "https://localhost:8080/"
        },
        "id": "9Ih9kZp049Pf",
        "outputId": "b20d2555-2fe0-4a6e-8d32-6ebbf6129ed7"
      },
      "source": [
        "#Transformasi angka, karakter, dan String\n",
        "kata='Insyiraah'\n",
        "kata=kata.upper()     #upper()\n",
        "print(kata)\n",
        "\n",
        "kata='ICHIKO'\n",
        "kata=kata.lower()     #lower()\n",
        "print(kata)\n",
        "\n",
        "print('Insyiraah      '.rstrip())           #rstrip()\n",
        "print('           OXA'.lstrip())            #lstrip()\n",
        "print('     Insyiraah       '.strip())      #strip()\n",
        "kata='CodeCodeDicodingCodeCode'\n",
        "print(kata.strip('Code'))                   #Menghilangkan karakter tertentu\n",
        "print('Dicoding Indonesia'.startswith('Dicoding'))\n",
        "print('Dicoding Indonesia'.endswith('Indonesia'))\n",
        "print(' '.join(['Dicoding','Indonesia','!']))       #join() untuk menggabungkan string\n",
        "print('123'.join(['Dicoding','Indonesia','!']))\n",
        "print('Dicoding Indonesia !'.split())               #split() untuk memisahkan substring\n",
        "#Menggunakan split() untuk memisahkan setiap baris pada string multiline\n",
        "print('''Halo,\n",
        "aku ikan,\n",
        "aku suka sekali menyelam\n",
        "aku tinggal di perairan.\n",
        "Badanku licin dan renangku cepat.\n",
        "Senang berkenalan denganmu.'''.split('\\n'))\n",
        "\n",
        "string=\"Ayo belajar Coding di Dicoding\"         #replace() untuk mengganti string\n",
        "print(string.replace(\"Coding\",\"Pemrograman\"))\n",
        "\n",
        "string=\"Ayo belajar  Coding di Dicoding karena Coding adalah bahasa masa depan\"\n",
        "print(string.replace(\"Coding\",\"Pemrograman\",1))   #Opsional:Paremeter ketiga pada replace dapat diisi jumlah subrtring yang ingin diganti\n",
        "\n",
        "kata=\"DICODING\"\n",
        "kata.isupper()      \n",
        "                    #isupper()\n",
        "kata=\"Dicoding\"\n",
        "kata.isupper()\n",
        "\n",
        "kata='dicoding'\n",
        "kata.islower()\n",
        "                  #islower\n",
        "kata='Dicoding'\n",
        "kata.islower()\n",
        "\n",
        "#Bahkan kita bisa melakukan operasi pada hasil operasinya(chain of method)\n",
        "print('Dicoding'.upper().lower())\n",
        "print('Dicoding'.lower().upper())\n",
        "print('Dicoding'.upper().lower().islower())\n",
        "print('Dicoding'.upper().lower().isupper())\n",
        "\n",
        "'dicoding'.isalpha()      #isalphha()   huruf alphabet\n",
        "'dicoding123'.isalnum()   #isalnum()    alfanumerik\n",
        "'12345'.isdecimal()       #isdecimal()  hanya angka/numerik \n",
        "'     '.isspace()         #isspace()    hanya karekter whitespace\n",
        "'Dicoding Indonesia'.istitle()   #istitle()    huruf kapital di setiap awal kata dan dilanjutkan huruf kecil seterusnya\n"
      ],
      "execution_count": null,
      "outputs": [
        {
          "output_type": "stream",
          "text": [
            "INSYIRAAH\n",
            "ichiko\n",
            "Insyiraah\n",
            "OXA\n",
            "Insyiraah\n",
            "Dicoding\n",
            "True\n",
            "True\n",
            "Dicoding Indonesia !\n",
            "Dicoding123Indonesia123!\n",
            "['Dicoding', 'Indonesia', '!']\n",
            "['Halo,', 'aku ikan,', 'aku suka sekali menyelam', 'aku tinggal di perairan.', 'Badanku licin dan renangku cepat.', 'Senang berkenalan denganmu.']\n",
            "Ayo belajar Pemrograman di Dicoding\n",
            "Ayo belajar  Pemrograman di Dicoding karena Coding adalah bahasa masa depan\n",
            "dicoding\n",
            "DICODING\n",
            "True\n",
            "False\n"
          ],
          "name": "stdout"
        },
        {
          "output_type": "execute_result",
          "data": {
            "text/plain": [
              "True"
            ]
          },
          "metadata": {
            "tags": []
          },
          "execution_count": 49
        }
      ]
    },
    {
      "cell_type": "code",
      "metadata": {
        "colab": {
          "base_uri": "https://localhost:8080/"
        },
        "id": "GKSc9aP1bwjp",
        "outputId": "16b9baf2-5d61-4a52-9d25-980bb3b7abc6"
      },
      "source": [
        "while True:\n",
        "    print('Masukkan nama Anda:')\n",
        "    name = input()\n",
        "    if name.isalpha():\n",
        "       print(\"Halo\", name)\n",
        "       break\n",
        "    print('Masukkan nama Anda dengan benar.')"
      ],
      "execution_count": null,
      "outputs": [
        {
          "output_type": "stream",
          "text": [
            "Masukkan nama Anda:\n",
            "Oxaichiko\n",
            "Halo Oxaichiko\n"
          ],
          "name": "stdout"
        }
      ]
    },
    {
      "cell_type": "code",
      "metadata": {
        "colab": {
          "base_uri": "https://localhost:8080/"
        },
        "id": "JzZ1YBYtiMHr",
        "outputId": "0c73d319-3224-4c9a-8d6b-9e293fb67717"
      },
      "source": [
        "#Cohtoh 1: Penggunaan zfill  5 pada angka satuan\n",
        "angka = 5\n",
        "print (str(angka).zfill(5));\n",
        "#Contoh 2: Penggunaan zfill 5 pada angka ratusan\n",
        "angka = 300\n",
        "print(str(angka).zfill(5));\n",
        "#Contoh 3: Penggunaan zfill 5 pada angka desimal negatif (memiliki koma)\n",
        "angka=-0.45\n",
        "print(str(angka).zfill(5));\n",
        "#Contoh 4: Penggunaan zfill 7 pada angka desimal negatif (memiliki koma)\n",
        "angka = -0.45\n",
        "print(str(angka).zfill(7));"
      ],
      "execution_count": null,
      "outputs": [
        {
          "output_type": "stream",
          "text": [
            "00005\n",
            "00300\n",
            "-0.45\n",
            "-000.45\n"
          ],
          "name": "stdout"
        }
      ]
    },
    {
      "cell_type": "code",
      "metadata": {
        "colab": {
          "base_uri": "https://localhost:8080/"
        },
        "id": "0HizdKgDlnA_",
        "outputId": "77c13fff-c101-47aa-b622-e4b4884e500c"
      },
      "source": [
        "#Penerapan zfill pada String\n",
        "#Contoh 1\n",
        "kata = 'aku'\n",
        "print (kata.zfill(5));\n",
        "#Contoh 2\n",
        "kata = 'kamu'\n",
        "print(kata.zfill(5));\n",
        "#contoh3\n",
        "kata='dirinya'\n",
        "print(kata.zfill(5));"
      ],
      "execution_count": null,
      "outputs": [
        {
          "output_type": "stream",
          "text": [
            "00aku\n",
            "0kamu\n",
            "dirinya\n"
          ],
          "name": "stdout"
        }
      ]
    },
    {
      "cell_type": "code",
      "metadata": {
        "colab": {
          "base_uri": "https://localhost:8080/",
          "height": 35
        },
        "id": "trkQdnRzvPsm",
        "outputId": "1db6ef15-709c-4146-d7fe-222d204c640f"
      },
      "source": [
        "#Teks rata kanan/kiri/tengah dengan rjust(),ljust(), dan center()\n",
        "'Dicoding'.rjust(20)\n",
        "'Dicoding'.ljust(20)\n",
        "'Dicoding'.ljust(20, '!')\n",
        "'Dicoding'.center(20)\n"
      ],
      "execution_count": null,
      "outputs": [
        {
          "output_type": "execute_result",
          "data": {
            "application/vnd.google.colaboratory.intrinsic+json": {
              "type": "string"
            },
            "text/plain": [
              "'      Dicoding      '"
            ]
          },
          "metadata": {
            "tags": []
          },
          "execution_count": 67
        }
      ]
    },
    {
      "cell_type": "code",
      "metadata": {
        "colab": {
          "base_uri": "https://localhost:8080/",
          "height": 35
        },
        "id": "2qTP4v4pvzf8",
        "outputId": "605a9f9e-6ce1-48d2-f148-53fd8f6db3cd"
      },
      "source": [
        "'Dicoding'.center(20,'-')\n"
      ],
      "execution_count": null,
      "outputs": [
        {
          "output_type": "execute_result",
          "data": {
            "application/vnd.google.colaboratory.intrinsic+json": {
              "type": "string"
            },
            "text/plain": [
              "'------Dicoding------'"
            ]
          },
          "metadata": {
            "tags": []
          },
          "execution_count": 68
        }
      ]
    },
    {
      "cell_type": "code",
      "metadata": {
        "colab": {
          "base_uri": "https://localhost:8080/"
        },
        "id": "xKyT9hzWwkYj",
        "outputId": "bd750f25-3428-4f45-95dc-67baac149598"
      },
      "source": [
        "st1 = \"Jum'at\"\n",
        "print(st1)"
      ],
      "execution_count": null,
      "outputs": [
        {
          "output_type": "stream",
          "text": [
            "Jum'at\n"
          ],
          "name": "stdout"
        }
      ]
    },
    {
      "cell_type": "code",
      "metadata": {
        "colab": {
          "base_uri": "https://localhost:8080/"
        },
        "id": "edSXGiMowqee",
        "outputId": "2178e955-ff3e-42e4-965b-e44a02ed0b85"
      },
      "source": [
        "print('Halo!\\nKapan terakhir kali kita bertemu?\\nKita bertemu hari Jum\\'at yang lalu.')"
      ],
      "execution_count": null,
      "outputs": [
        {
          "output_type": "stream",
          "text": [
            "Halo!\n",
            "Kapan terakhir kali kita bertemu?\n",
            "Kita bertemu hari Jum'at yang lalu.\n"
          ],
          "name": "stdout"
        }
      ]
    },
    {
      "cell_type": "code",
      "metadata": {
        "colab": {
          "base_uri": "https://localhost:8080/"
        },
        "id": "j1gtD_UGxXTp",
        "outputId": "729b7fb2-d8be-4f46-9743-9b3731e18caa"
      },
      "source": [
        "print(r'Dicoding\\tIndonesia')"
      ],
      "execution_count": null,
      "outputs": [
        {
          "output_type": "stream",
          "text": [
            "Dicoding\\tIndonesia\n"
          ],
          "name": "stdout"
        }
      ]
    },
    {
      "cell_type": "code",
      "metadata": {
        "colab": {
          "base_uri": "https://localhost:8080/"
        },
        "id": "TMIMopixxn-o",
        "outputId": "0a19af25-ef69-4834-af6d-bb43c3373f9d"
      },
      "source": [
        "contoh_list = [1,3,3,5,5,5,7,7,9]\n",
        "print(contoh_list)\n",
        "print(len(contoh_list))\n",
        "\n",
        "contoh_set = set([1,3,3,5,5,5,7,7,9])\n",
        "print(contoh_set)\n",
        "print(len(contoh_set))\n",
        "\n",
        "contoh_string = \"Belajar Python\"\n",
        "print(contoh_string)\n",
        "print(len(contoh_string))"
      ],
      "execution_count": null,
      "outputs": [
        {
          "output_type": "stream",
          "text": [
            "[1, 3, 3, 5, 5, 5, 7, 7, 9]\n",
            "9\n",
            "{1, 3, 5, 7, 9}\n",
            "5\n",
            "Belajar Python\n",
            "14\n"
          ],
          "name": "stdout"
        }
      ]
    },
    {
      "cell_type": "code",
      "metadata": {
        "colab": {
          "base_uri": "https://localhost:8080/"
        },
        "id": "T9dzQbVFyQIW",
        "outputId": "960618c7-b5fa-4804-d2cc-9f2ce125a070"
      },
      "source": [
        "angka =  [13,724,5,96,84,71,11,38]\n",
        "print(min(angka))\n",
        "print(max(angka))"
      ],
      "execution_count": null,
      "outputs": [
        {
          "output_type": "stream",
          "text": [
            "5\n",
            "724\n"
          ],
          "name": "stdout"
        }
      ]
    },
    {
      "cell_type": "code",
      "metadata": {
        "colab": {
          "base_uri": "https://localhost:8080/"
        },
        "id": "MAdP0YWyy-uo",
        "outputId": "3b4d1e36-a39c-4cfe-e21c-e6cc5a9e5ca6"
      },
      "source": [
        "#Count() untuk mengtahui berapa kali suatu objek muncul dalam list\n",
        "genap = [2,4,4,6,6,6,8,10,10]\n",
        "print(genap.count(6))\n",
        "string=\"Belajar Python di Dicoding sangat menyenangkan\"\n",
        "substring = \"a\"\n",
        "print(string.count(substring))"
      ],
      "execution_count": null,
      "outputs": [
        {
          "output_type": "stream",
          "text": [
            "3\n",
            "6\n"
          ],
          "name": "stdout"
        }
      ]
    },
    {
      "cell_type": "code",
      "metadata": {
        "colab": {
          "base_uri": "https://localhost:8080/"
        },
        "id": "W4lT3M4qzV3j",
        "outputId": "69c97a2f-d285-4e21-b1d5-7e3dfb7e4582"
      },
      "source": [
        "#Penggabungan\n",
        "angka = [2,4,6,8]\n",
        "huruf = ['P','Y','T','H','O','N']\n",
        "gabung = angka + huruf\n",
        "print(gabung)\n",
        "\n",
        "#Replikasi\n",
        "learn = ['P','Y','T','H','O','N']\n",
        "replikasi = learn * 2\n",
        "print(replikasi)"
      ],
      "execution_count": null,
      "outputs": [
        {
          "output_type": "stream",
          "text": [
            "[2, 4, 6, 8, 'P', 'Y', 'T', 'H', 'O', 'N']\n",
            "['P', 'Y', 'T', 'H', 'O', 'N', 'P', 'Y', 'T', 'H', 'O', 'N']\n"
          ],
          "name": "stdout"
        }
      ]
    },
    {
      "cell_type": "code",
      "metadata": {
        "colab": {
          "base_uri": "https://localhost:8080/"
        },
        "id": "1Eu4VHKWz6_D",
        "outputId": "799db5f6-f3ab-4b5b-b5bd-93c731049432"
      },
      "source": [
        "for i in range(5):\n",
        "    print(i)\n",
        "    "
      ],
      "execution_count": null,
      "outputs": [
        {
          "output_type": "stream",
          "text": [
            "0\n",
            "1\n",
            "2\n",
            "3\n",
            "4\n"
          ],
          "name": "stdout"
        }
      ]
    },
    {
      "cell_type": "code",
      "metadata": {
        "colab": {
          "base_uri": "https://localhost:8080/"
        },
        "id": "NpYZg7o60jOt",
        "outputId": "3180c843-e41d-4936-e31f-2d714b35a9c7"
      },
      "source": [
        "for i in range(1, 11):\n",
        "      print(i)"
      ],
      "execution_count": null,
      "outputs": [
        {
          "output_type": "stream",
          "text": [
            "1\n",
            "2\n",
            "3\n",
            "4\n",
            "5\n",
            "6\n",
            "7\n",
            "8\n",
            "9\n",
            "10\n"
          ],
          "name": "stdout"
        }
      ]
    },
    {
      "cell_type": "code",
      "metadata": {
        "colab": {
          "base_uri": "https://localhost:8080/"
        },
        "id": "ayBlmiCI0snz",
        "outputId": "7f553499-86a1-4c75-b1b9-9a0f4fb688c6"
      },
      "source": [
        "print([_ for _ in range(0,20,5)])"
      ],
      "execution_count": null,
      "outputs": [
        {
          "output_type": "stream",
          "text": [
            "[0, 5, 10, 15]\n"
          ],
          "name": "stdout"
        }
      ]
    },
    {
      "cell_type": "code",
      "metadata": {
        "colab": {
          "base_uri": "https://localhost:8080/"
        },
        "id": "Xr2MnhtG077_",
        "outputId": "d362ec91-550e-4c1f-9e82-4d739b0a79cf"
      },
      "source": [
        "kalimat = \"Belajar Python di Dicoding sangat menyenangkan\"\n",
        "print('Dicoding' in kalimat)\n",
        "print('tidak' in kalimat)\n",
        "print('Dicoding'not in kalimat)\n",
        "print('tidak' not in kalimat)"
      ],
      "execution_count": null,
      "outputs": [
        {
          "output_type": "stream",
          "text": [
            "True\n",
            "False\n",
            "False\n",
            "True\n"
          ],
          "name": "stdout"
        }
      ]
    },
    {
      "cell_type": "code",
      "metadata": {
        "colab": {
          "base_uri": "https://localhost:8080/"
        },
        "id": "op5oHp751ba8",
        "outputId": "0e1605cd-aafe-40f1-b722-0a02ae8a78c0"
      },
      "source": [
        "#Memberikan nilai untuk multiple variable\n",
        "data = ['shirt', 'white', 'L']\n",
        "apparel = data[0]\n",
        "color = data[1]\n",
        "size = data[2]\n",
        "\n",
        "data = ['shirt', 'white', 'L'] #from List\n",
        "apparel, color, size = datadata = ('shirt', 'white', 'L') #from Tuple\n",
        "apparel, color, size = data\n",
        "\n",
        "apparel, color ='shirt', 'white'\n",
        "apparel, color = color = color, apparel\n",
        "print(apparel)\n",
        "print(color)\n",
        "\n",
        "angka = [100, 1000, 500, 200,5]\n",
        "angka.sort()\n",
        "print(angka)"
      ],
      "execution_count": null,
      "outputs": [
        {
          "output_type": "stream",
          "text": [
            "white\n",
            "('white', 'shirt')\n",
            "[5, 100, 200, 500, 1000]\n"
          ],
          "name": "stdout"
        }
      ]
    },
    {
      "cell_type": "code",
      "metadata": {
        "colab": {
          "base_uri": "https://localhost:8080/"
        },
        "id": "3f-RlNHE1rvU",
        "outputId": "dc564505-2345-457c-d89c-b038818c7e35"
      },
      "source": [
        "#Sort untuk mrngurutkan angka atau huruf\n",
        "kendaraan = ['motor', 'mobil', 'helikopter', 'pesawat']\n",
        "kendaraan.sort()\n",
        "print(kendaraan)\n",
        "\n",
        "kendaraan = ['motor', 'mobil', 'helikopter', 'pesawat']\n",
        "kendaraan.sort(reverse=True)\n",
        "print(kendaraan)\n",
        "\n",
        "#Sort menggunakan urutan ASCII, sehingga nilai huruf kapital akan lebih dahulu dibandingkan huruf kecil\n",
        "kendaraan = ['motor', 'mobil', 'helikopter', 'Pesawat']\n",
        "kendaraan.sort()\n",
        "print(kendaraan)\n",
        "\n",
        "kendaraan = ['Motor', 'Mobil', 'helikopter', 'pesawat']\n",
        "kendaraan.sort(key=str.lower)\n",
        "print(kendaraan)\n"
      ],
      "execution_count": null,
      "outputs": [
        {
          "output_type": "stream",
          "text": [
            "['helikopter', 'mobil', 'motor', 'pesawat']\n",
            "['pesawat', 'motor', 'mobil', 'helikopter']\n",
            "['Pesawat', 'helikopter', 'mobil', 'motor']\n",
            "['helikopter', 'Mobil', 'Motor', 'pesawat']\n"
          ],
          "name": "stdout"
        }
      ]
    },
    {
      "cell_type": "code",
      "metadata": {
        "colab": {
          "base_uri": "https://localhost:8080/"
        },
        "id": "bJek3_LS2-Ia",
        "outputId": "f2b27210-d29b-488d-f725-9f198ffd87d2"
      },
      "source": [
        "#Penggunaan le, lt, gt, ge, eq, ne\n",
        "from operator import*\n",
        "hijau = 5\n",
        "kuning = 10\n",
        "print ('Kelereng Hijau = {}'.format(hijau))\n",
        "print ('Kelereng Kuning = {}'.format(kuning))\n",
        "for func in (lt, le, eq, ne, ge, gt):\n",
        "    print('{}(hijau, kuning): {}'.format(func.__name__, func(hijau, kuning)))"
      ],
      "execution_count": null,
      "outputs": [
        {
          "output_type": "stream",
          "text": [
            "Kelereng Hijau = 5\n",
            "Kelereng Kuning = 10\n",
            "lt(hijau, kuning): True\n",
            "le(hijau, kuning): True\n",
            "eq(hijau, kuning): False\n",
            "ne(hijau, kuning): True\n",
            "ge(hijau, kuning): False\n",
            "gt(hijau, kuning): False\n"
          ],
          "name": "stdout"
        }
      ]
    },
    {
      "cell_type": "code",
      "metadata": {
        "id": "TnDMYk-ACzv6"
      },
      "source": [
        "a = 2\n",
        "q = a * 3\n",
        "#dapat dituliskan sebagai\n",
        "a = 2\n",
        "a *=3"
      ],
      "execution_count": null,
      "outputs": []
    },
    {
      "cell_type": "code",
      "metadata": {
        "colab": {
          "base_uri": "https://localhost:8080/"
        },
        "id": "f1tuBtbCD4he",
        "outputId": "6deca370-a45a-4cae-d5c7-d2a4b703f851"
      },
      "source": [
        "kelerengku = 10\n",
        "if kelerengku:\n",
        "  print(\"Cetak ini jika benar\")\n",
        "  print(kelerengku)"
      ],
      "execution_count": null,
      "outputs": [
        {
          "output_type": "stream",
          "text": [
            "Cetak ini jika benar\n",
            "10\n"
          ],
          "name": "stdout"
        }
      ]
    },
    {
      "cell_type": "code",
      "metadata": {
        "colab": {
          "base_uri": "https://localhost:8080/"
        },
        "id": "4yFOTBQWQbK2",
        "outputId": "593bffc6-2318-400a-b5c1-2618f2fc0202"
      },
      "source": [
        "tinggi_badan = int(input(\"Masukkan tinggi badan Anda : \"))\n",
        "if tinggi_badan>=160:\n",
        "  print(\"Silakan, Anda boleh masuk\")\n",
        "else:\n",
        "  print(\"Maaf, Anda belum boleh masuk\")"
      ],
      "execution_count": null,
      "outputs": [
        {
          "output_type": "stream",
          "text": [
            "Masukkan tinggi badan Anda : 163\n",
            "Silakan, Anda boleh masuk\n"
          ],
          "name": "stdout"
        }
      ]
    },
    {
      "cell_type": "code",
      "metadata": {
        "colab": {
          "base_uri": "https://localhost:8080/"
        },
        "id": "3VP-nxIKQnHf",
        "outputId": "9750d67b-8e24-4e38-9e31-30fa862e0683"
      },
      "source": [
        "bilangan = 4\n",
        "if bilangan % 2 == 0:\n",
        "    print('Bilangan {} adalah genap'.format(bilangan))\n",
        "else:\n",
        "  print('Bilangan {} adalah ganjil'.format(bilangan))"
      ],
      "execution_count": null,
      "outputs": [
        {
          "output_type": "stream",
          "text": [
            "Bilangan 4 adalah genap\n"
          ],
          "name": "stdout"
        }
      ]
    },
    {
      "cell_type": "code",
      "metadata": {
        "colab": {
          "base_uri": "https://localhost:8080/"
        },
        "id": "hMJ16bhtRu-2",
        "outputId": "8bd84f5d-c796-4b30-c56d-f671125a8965"
      },
      "source": [
        "nilai = int(input(\"Masukkan nilai tugas Anda : \"))\n",
        "if nilai>80:\n",
        "  print(\"Selamat! Aanda mendapat nilai A\")\n",
        "  print(\"Pertahankan!\")\n",
        "elif nilai>70:\n",
        "  print(\"Hore! Anda mendapat nilai B\")\n",
        "  print(\"Tingkatkan!\")\n",
        "elif nilai>60:\n",
        "  print(\"Hm.. Anda mendapat nilai C\")\n",
        "  print(\"Ayo semangat!\")\n",
        "else:\n",
        "  print(\"Waduh, Anda mendapat nilai D\")\n",
        "  print(\"Yuk belajar lebih giat lagi!\")\n",
        "  "
      ],
      "execution_count": null,
      "outputs": [
        {
          "output_type": "stream",
          "text": [
            "Masukkan nilai tugas Anda : 99\n",
            "Selamat! Aanda mendapat nilai A\n",
            "Pertahankan!\n"
          ],
          "name": "stdout"
        }
      ]
    },
    {
      "cell_type": "code",
      "metadata": {
        "colab": {
          "base_uri": "https://localhost:8080/"
        },
        "id": "Rem7Lw16TZ2w",
        "outputId": "8759638d-eec8-4e32-8f72-9b219530c4d7"
      },
      "source": [
        "for huruf in 'Dicoding':\n",
        "  print('Huruf: {}'.format(huruf))\n",
        "\n",
        "flowers = ['mawar', 'melati', 'anggrek']\n",
        "for flower in flowers: \n",
        "    print('Flower:{}'.format(flower))"
      ],
      "execution_count": null,
      "outputs": [
        {
          "output_type": "stream",
          "text": [
            "Huruf: D\n",
            "Huruf: i\n",
            "Huruf: c\n",
            "Huruf: o\n",
            "Huruf: d\n",
            "Huruf: i\n",
            "Huruf: n\n",
            "Huruf: g\n",
            "Flower:mawar\n",
            "Flower:melati\n",
            "Flower:anggrek\n"
          ],
          "name": "stdout"
        }
      ]
    },
    {
      "cell_type": "code",
      "metadata": {
        "colab": {
          "base_uri": "https://localhost:8080/"
        },
        "id": "_7rLTH5mMwxG",
        "outputId": "43babe37-e8c9-4440-b1f9-47000b43b33a"
      },
      "source": [
        "flower = ['mawar', ' melati', 'anggrek']\n",
        "for index in range(len(flowers)):\n",
        "  print('Flower:{}'.format(flowers[index]))"
      ],
      "execution_count": null,
      "outputs": [
        {
          "output_type": "stream",
          "text": [
            "Flower:mawar\n",
            "Flower:melati\n",
            "Flower:anggrek\n"
          ],
          "name": "stdout"
        }
      ]
    },
    {
      "cell_type": "code",
      "metadata": {
        "colab": {
          "base_uri": "https://localhost:8080/"
        },
        "id": "MM3ZOwraNVkf",
        "outputId": "0f926f93-e902-4e71-dd67-2dc4a8f85f65"
      },
      "source": [
        "count = 0\n",
        "while (count < 7):\n",
        "  print('Hitungannya adalah: {}'.format(count))\n",
        "  count = count + 1"
      ],
      "execution_count": null,
      "outputs": [
        {
          "output_type": "stream",
          "text": [
            "Hitungannya adalah: 0\n",
            "Hitungannya adalah: 1\n",
            "Hitungannya adalah: 2\n",
            "Hitungannya adalah: 3\n",
            "Hitungannya adalah: 4\n",
            "Hitungannya adalah: 5\n",
            "Hitungannya adalah: 6\n"
          ],
          "name": "stdout"
        }
      ]
    },
    {
      "cell_type": "code",
      "metadata": {
        "id": "mp1R9iytN3Lv"
      },
      "source": [
        "|"
      ],
      "execution_count": null,
      "outputs": []
    }
  ]
}